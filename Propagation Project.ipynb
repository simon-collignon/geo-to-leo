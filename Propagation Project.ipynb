{
 "cells": [
  {
   "cell_type": "markdown",
   "id": "9d1d095a",
   "metadata": {},
   "source": [
    "# Propagation Project"
   ]
  },
  {
   "cell_type": "code",
   "execution_count": 2,
   "id": "25310ca6",
   "metadata": {},
   "outputs": [],
   "source": [
    "import numpy as np"
   ]
  },
  {
   "attachments": {},
   "cell_type": "markdown",
   "id": "6980aae3",
   "metadata": {},
   "source": [
    "## 1. GEO to LEO\n",
    "\n",
    "$$ P(A > A_{th}) = \\sum P(A > A_{th} | \\theta_i) P(\\theta_i) $$\n",
    "\n",
    "Questions:\n",
    "\n",
    "- How can we define the availability threshold?\n",
    "\n",
    "csv columns:\n",
    "\n",
    "0. Site number\t\n",
    "1. Satellite number\t \n",
    "2. Frequency (GHz)\t \n",
    "3. Elevation angle (deg)\t \n",
    "4. Elevation probability ()\t \n",
    "5. Time exceeded (%)\t \n",
    "6. att_comb (dB)\n"
   ]
  },
  {
   "cell_type": "code",
   "execution_count": 4,
   "id": "edbbf810",
   "metadata": {},
   "outputs": [
    {
     "name": "stdout",
     "output_type": "stream",
     "text": [
      "(432, 7)\n",
      "(432, 7)\n"
     ]
    }
   ],
   "source": [
    "aus_37_5_50 = np.genfromtxt(\"./data/37_austria_5_50/output/ascii/attenuation_total.csv\", delimiter=\",\", skip_header=7, filling_values=0)\n",
    "aus_37_55_90 = np.genfromtxt(\"./data/37_austria_55_90/output/ascii/attenuation_total.csv\", delimiter=\",\", skip_header=7, filling_values=0)\n",
    "nor_37_5_50 = np.genfromtxt(\"./data/37_norway_5_50/output/ascii/attenuation_total.csv\", delimiter=\",\", skip_header=7, filling_values=0)\n",
    "nor_37_55_90 = np.genfromtxt(\"./data/37_norway_55_90/output/ascii/attenuation_total.csv\", delimiter=\",\", skip_header=7, filling_values=0)\n",
    "\n",
    "aus_37 = np.concatenate((aus_37_5_50, aus_37_55_90))\n",
    "nor_37 = np.concatenate((nor_37_5_50, nor_37_55_90))\n",
    "\n",
    "\n",
    "print(np.shape(aus_37))\n",
    "print(np.shape(nor_37))"
   ]
  },
  {
   "cell_type": "code",
   "execution_count": 8,
   "id": "bb14c7b6",
   "metadata": {},
   "outputs": [
    {
     "name": "stdout",
     "output_type": "stream",
     "text": [
      "18\n"
     ]
    }
   ],
   "source": [
    "p_theta_aus = np.array([1.26916122e-02, 8.47372406e-03, 5.69595155e-03, \n",
    "                        3.86117968e-03, 2.81951499e-03, 1.88600128e-03, \n",
    "                        1.44770521e-03, 1.01699868e-03, 7.91209792e-04, \n",
    "                        6.07163390e-04, 4.85730712e-04, 3.16863394e-04,\n",
    "                        2.44762741e-04, 2.14404572e-04, 1.36611763e-04, \n",
    "                        6.45111101e-05, 2.08712415e-05, 0.00000000e+00])\n",
    "\n",
    "p_theta_nor = np.array([0.0319405890623310, 0.0201635166903524, 0.0133177494730012,\n",
    "0.0095400547585482, 0.0069406364969708, 0.0054151384806875,\n",
    "0.0042767071252521, 0.0033811411256430, 0.0028593600877351,\n",
    "0.0024817803548491, 0.0021819934312511, 0.0023584502913436,\n",
    "0.0015122163171366, 0.0009638718809353, 0.0006318294022666,\n",
    "0.0003472215634078, 0.0001157405211359, 0.0000000000000000])\n",
    "\n",
    "print(np.size(p_theta_aus))\n",
    "print(np.size(p_theta_nor))"
   ]
  }
 ],
 "metadata": {
  "kernelspec": {
   "display_name": "Python 3 (ipykernel)",
   "language": "python",
   "name": "python3"
  },
  "language_info": {
   "codemirror_mode": {
    "name": "ipython",
    "version": 3
   },
   "file_extension": ".py",
   "mimetype": "text/x-python",
   "name": "python",
   "nbconvert_exporter": "python",
   "pygments_lexer": "ipython3",
   "version": "3.8.10"
  }
 },
 "nbformat": 4,
 "nbformat_minor": 5
}
