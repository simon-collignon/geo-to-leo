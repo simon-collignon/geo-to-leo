{
 "cells": [
  {
   "cell_type": "markdown",
   "id": "9d1d095a",
   "metadata": {},
   "source": [
    "# Propagation Project"
   ]
  },
  {
   "cell_type": "code",
   "execution_count": 2,
   "id": "25310ca6",
   "metadata": {},
   "outputs": [],
   "source": [
    "import numpy as np"
   ]
  },
  {
   "cell_type": "markdown",
   "id": "6980aae3",
   "metadata": {},
   "source": [
    "## 1. GEO to LEO\n",
    "\n",
    "$$ P(A > A_{th}) = \\sum P(A > A_{th} | \\theta_i) P(\\theta_i) $$\n",
    "\n"
   ]
  },
  {
   "cell_type": "code",
   "execution_count": 16,
   "id": "edbbf810",
   "metadata": {},
   "outputs": [
    {
     "name": "stdout",
     "output_type": "stream",
     "text": [
      "[[1.0000e+00 1.0000e+00 3.7500e+01 5.0000e+00 1.0000e+00 1.0000e-02\n",
      "  1.5688e+02]\n",
      " [1.0000e+00 1.0000e+00 3.7500e+01 5.0000e+00 1.0000e+00 1.6000e-02\n",
      "  1.3949e+02]\n",
      " [1.0000e+00 1.0000e+00 3.7500e+01 5.0000e+00 1.0000e+00 2.7000e-02\n",
      "  1.2111e+02]\n",
      " [1.0000e+00 1.0000e+00 3.7500e+01 5.0000e+00 1.0000e+00 4.5000e-02\n",
      "  1.0459e+02]\n",
      " [1.0000e+00 1.0000e+00 3.7500e+01 5.0000e+00 1.0000e+00 7.7000e-02\n",
      "  8.9015e+01]\n",
      " [1.0000e+00 1.0000e+00 3.7500e+01 5.0000e+00 1.0000e+00 1.3000e-01\n",
      "  7.5109e+01]\n",
      " [1.0000e+00 1.0000e+00 3.7500e+01 5.0000e+00 1.0000e+00 2.1000e-01\n",
      "  6.3464e+01]\n",
      " [1.0000e+00 1.0000e+00 3.7500e+01 5.0000e+00 1.0000e+00 3.5000e-01\n",
      "  5.2677e+01]\n",
      " [1.0000e+00 1.0000e+00 3.7500e+01 5.0000e+00 1.0000e+00 6.0000e-01\n",
      "  4.3045e+01]\n",
      " [1.0000e+00 1.0000e+00 3.7500e+01 5.0000e+00 1.0000e+00 9.5000e-01\n",
      "  3.6023e+01]\n",
      " [1.0000e+00 1.0000e+00 3.7500e+01 5.0000e+00 1.0000e+00 1.7000e+00\n",
      "  2.8448e+01]\n",
      " [1.0000e+00 1.0000e+00 3.7500e+01 5.0000e+00 1.0000e+00 3.0000e+00\n",
      "  2.2441e+01]\n",
      " [1.0000e+00 1.0000e+00 3.7500e+01 5.0000e+00 1.0000e+00 5.1000e+00\n",
      "  1.7542e+01]\n",
      " [1.0000e+00 1.0000e+00 3.7500e+01 5.0000e+00 1.0000e+00 8.3000e+00\n",
      "  1.3742e+01]\n",
      " [1.0000e+00 1.0000e+00 3.7500e+01 5.0000e+00 1.0000e+00 1.2000e+01\n",
      "  1.1160e+01]\n",
      " [1.0000e+00 1.0000e+00 3.7500e+01 5.0000e+00 1.0000e+00 1.9000e+01\n",
      "  8.2129e+00]\n",
      " [1.0000e+00 1.0000e+00 3.7500e+01 5.0000e+00 1.0000e+00 3.0000e+01\n",
      "  5.8841e+00]\n",
      " [1.0000e+00 1.0000e+00 3.7500e+01 5.0000e+00 1.0000e+00 4.0000e+01\n",
      "  4.9873e+00]\n",
      " [1.0000e+00 1.0000e+00 3.7500e+01 5.0000e+00 1.0000e+00 5.0000e+01\n",
      "  4.3502e+00]\n",
      " [1.0000e+00 1.0000e+00 3.7500e+01 5.0000e+00 1.0000e+00 6.0000e+01\n",
      "  4.1433e+00]]\n"
     ]
    }
   ],
   "source": [
    "aus_37_5_50 = np.genfromtxt(\"./data/37_austria_5_50/output/ascii/attenuation_total.csv\", delimiter=\",\", skip_header=7, filling_values=0)\n",
    "aus_37_55_90 = np.genfromtxt(\"./data/37_austria_55_90/output/ascii/attenuation_total.csv\", delimiter=\",\", skip_header=7, filling_values=0)\n",
    "nor_37_5_50 = np.genfromtxt(\"./data/37_norway_5_50/output/ascii/attenuation_total.csv\", delimiter=\",\", skip_header=7, filling_values=0)\n",
    "nor_37_55_90 = np.genfromtxt(\"./data/37_norway_55_90/output/ascii/attenuation_total.csv\", delimiter=\",\", skip_header=7, filling_values=0)\n",
    "\n",
    "print(aus_37_5_90[0:20, :])\n",
    "aus_37_5_90 = np.concatenate((aus_37_5_50, aus_37_55_90))"
   ]
  }
 ],
 "metadata": {
  "kernelspec": {
   "display_name": "Python 3 (ipykernel)",
   "language": "python",
   "name": "python3"
  },
  "language_info": {
   "codemirror_mode": {
    "name": "ipython",
    "version": 3
   },
   "file_extension": ".py",
   "mimetype": "text/x-python",
   "name": "python",
   "nbconvert_exporter": "python",
   "pygments_lexer": "ipython3",
   "version": "3.8.10"
  }
 },
 "nbformat": 4,
 "nbformat_minor": 5
}
