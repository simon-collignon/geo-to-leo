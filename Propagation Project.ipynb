{
 "cells": [
  {
   "cell_type": "markdown",
   "id": "9d1d095a",
   "metadata": {},
   "source": [
    "# Propagation Project"
   ]
  },
  {
   "cell_type": "code",
   "execution_count": 2,
   "id": "25310ca6",
   "metadata": {},
   "outputs": [],
   "source": [
    "import numpy as np"
   ]
  },
  {
   "attachments": {},
   "cell_type": "markdown",
   "id": "6980aae3",
   "metadata": {},
   "source": [
    "## 1. GEO to LEO\n",
    "\n",
    "$$ P(A > A_{th}) = \\sum P(A > A_{th} | \\theta_i) P(\\theta_i) $$\n",
    "\n",
    "csv columns:\n",
    "\n",
    "0. Site number\t\n",
    "1. Satellite number\t \n",
    "2. Frequency (GHz)\t \n",
    "3. Elevation angle (deg)\t \n",
    "4. Elevation probability ()\t \n",
    "5. Time exceeded (%)\t \n",
    "6. att_comb (dB)\n"
   ]
  },
  {
   "cell_type": "code",
   "execution_count": 4,
   "id": "edbbf810",
   "metadata": {},
   "outputs": [
    {
     "name": "stdout",
     "output_type": "stream",
     "text": [
      "(432, 7)\n",
      "(432, 7)\n"
     ]
    }
   ],
   "source": [
    "aus_37_5_50 = np.genfromtxt(\"./data/37_austria_5_50/output/ascii/attenuation_total.csv\", delimiter=\",\", skip_header=7, filling_values=0)\n",
    "aus_37_55_90 = np.genfromtxt(\"./data/37_austria_55_90/output/ascii/attenuation_total.csv\", delimiter=\",\", skip_header=7, filling_values=0)\n",
    "nor_37_5_50 = np.genfromtxt(\"./data/37_norway_5_50/output/ascii/attenuation_total.csv\", delimiter=\",\", skip_header=7, filling_values=0)\n",
    "nor_37_55_90 = np.genfromtxt(\"./data/37_norway_55_90/output/ascii/attenuation_total.csv\", delimiter=\",\", skip_header=7, filling_values=0)\n",
    "\n",
    "aus_37 = np.concatenate((aus_37_5_50, aus_37_55_90))\n",
    "nor_37 = np.concatenate((nor_37_5_50, nor_37_55_90))\n",
    "\n",
    "print(np.shape(aus_37))\n",
    "print(np.shape(nor_37))"
   ]
  }
 ],
 "metadata": {
  "kernelspec": {
   "display_name": "Python 3 (ipykernel)",
   "language": "python",
   "name": "python3"
  },
  "language_info": {
   "codemirror_mode": {
    "name": "ipython",
    "version": 3
   },
   "file_extension": ".py",
   "mimetype": "text/x-python",
   "name": "python",
   "nbconvert_exporter": "python",
   "pygments_lexer": "ipython3",
   "version": "3.8.10"
  }
 },
 "nbformat": 4,
 "nbformat_minor": 5
}
