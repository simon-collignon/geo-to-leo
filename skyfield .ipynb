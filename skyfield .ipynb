{
 "cells": [
  {
   "cell_type": "markdown",
   "metadata": {},
   "source": [
    "<style>\n",
    "    h1 {font-family:Times; font-size:20pt}\n",
    "    h2 {font-family:Times; font-size:18pt}\n",
    "    h3 {font-family:Times; font-size:16pt}\n",
    "    p {font-family:Times; font-size:12pt}\n",
    "    </style>\n",
    "    \n",
    "> # Earth Satellites\n",
    ">\n",
    "> Skyfield is able to predict the positions of Earth satellites by loading satellite orbital elements from Two-Line Element (TLE) files — published by organizations like CelesTrak — and running them through the SGP4 satellite propagation routine. \n"
   ]
  },
  {
   "cell_type": "code",
   "execution_count": 1,
   "metadata": {},
   "outputs": [],
   "source": [
    "import numpy as np\n",
    "import pandas as pd\n",
    "import matplotlib.pyplot as plt\n",
    "import os\n",
    "from skyfield.api import load, wgs84"
   ]
  },
  {
   "cell_type": "markdown",
   "metadata": {},
   "source": [
    "<style>\n",
    "    h1 {font-family:Times; font-size:20pt}\n",
    "    h2 {font-family:Times; font-size:18pt}\n",
    "    h3 {font-family:Times; font-size:16pt}\n",
    "    p {font-family:Times; font-size:12pt}\n",
    "    </style>\n",
    "    \n",
    "> ## Loading a TLE file\n",
    ">\n",
    "> Skyfield loader objects offer a tle_file() method that can download and cache a file full of satellite elements from a site like Celestrak. A popular observing target for satellite observers is the International Space Station, which is listed in Celestrak’s stations.txt file:"
   ]
  },
  {
   "cell_type": "code",
   "execution_count": 2,
   "metadata": {},
   "outputs": [
    {
     "name": "stdout",
     "output_type": "stream",
     "text": [
      "METOP-B catalog #38771 epoch 2021-11-25 10:36:54 UTC\n"
     ]
    }
   ],
   "source": [
    "# stations_url = 'https://www.celestrak.com/NORAD/elements/geo.txt'\n",
    "stations_url = 'https://celestrak.com/NORAD/elements/weather.txt'\n",
    "\n",
    "\n",
    "satellites = load.tle_file(stations_url, reload=False)\n",
    "\n",
    "by_name = {sat.name: sat for sat in satellites}\n",
    "satellite = by_name['METOP-A'] # how to choose the satellite? => MetOp A/B/C or COMS => We arbitrarly choose METOP-A.\n",
    "\n",
    "print(satellite)"
   ]
  },
  {
   "cell_type": "markdown",
   "metadata": {},
   "source": [
    "<style>\n",
    "    h1 {font-family:Times; font-size:20pt}\n",
    "    h2 {font-family:Times; font-size:18pt}\n",
    "    h3 {font-family:Times; font-size:16pt}\n",
    "    p {font-family:Times; font-size:12pt}\n",
    "    </style>\n",
    "    \n",
    "> ## Loading a TLE set from strings\n",
    "> If your program already has the two lines of TLE data for a satellite and doesn’t need Skyfield to download and parse a Celestrak file, you can instantiate an EarthSatellite directly.\n",
    "\n",
    "Do we have to modify the two lines?"
   ]
  },
  {
   "cell_type": "code",
   "execution_count": 3,
   "metadata": {},
   "outputs": [
    {
     "name": "stdout",
     "output_type": "stream",
     "text": [
      "<skyfield.timelib.Timescale object at 0x7f4cb8556370>\n",
      "METOP-B catalog #38771 epoch 2021-11-24 03:45:24 UTC\n"
     ]
    }
   ],
   "source": [
    "from skyfield.api import EarthSatellite\n",
    "\n",
    "ts = load.timescale()\n",
    "line1 = '1 38771U 12049A   21328.15653177  .00000019  00000+0  28851-4 0  9990'\n",
    "line2 = '2 38771  98.6954  26.0543 0000110 196.3188 189.2859 14.21494351476561'\n",
    "\n",
    "satellite = EarthSatellite(line1, line2, 'METOP-A', ts)\n",
    "\n",
    "print(ts)\n",
    "print(satellite)"
   ]
  },
  {
   "cell_type": "markdown",
   "metadata": {},
   "source": [
    "<style>\n",
    "    h1 {font-family:Times; font-size:20pt}\n",
    "    h2 {font-family:Times; font-size:18pt}\n",
    "    h3 {font-family:Times; font-size:16pt}\n",
    "    p {font-family:Times; font-size:12pt}\n",
    "    </style>\n",
    ">\n",
    "> ## Satellite altitude, azimuth, and distance\n",
    ">\n",
    "> You might be most interested in whether the satellite is above or below the horizon from your own position as an observer, and in which direction to look for it. If you build an object to represent your latitude and longitude , you can use vector subtraction to ask “where will the satellite be relative to my location?”\n",
    "\n",
    "Our locations are: \n",
    "- **Austria Graz**         47.07°N 15.44°E 353m\n",
    "- **Norway Isfjord radio** 78.06°N 13.62°E 10m"
   ]
  },
  {
   "cell_type": "code",
   "execution_count": 4,
   "metadata": {},
   "outputs": [],
   "source": [
    "\n",
    "LOCATION = wgs84.latlon(78.06, 13.62) # currently set on Norway\n",
    "\n",
    "difference = satellite - LOCATION\n",
    "\n",
    "dates = pd.date_range(\"2020-01-01\",\"2021-01-01\", freq='60S') # We have to set the frequency on 60 seconds\n",
    "alt = np.zeros(np.size(dates)) * np.nan\n",
    "az = np.zeros(np.size(dates)) * np.nan\n",
    "\n",
    "for ii,date in enumerate(dates):\n",
    "\n",
    "    t = ts.utc(date.year, date.month, date.day, date.hour, date.minute, date.second)\n",
    "\n",
    "    topocentric = difference.at(t)\n",
    "\n",
    "    alt_, az_, distance = topocentric.altaz()\n",
    "\n",
    "    alt[ii] = alt_.degrees\n",
    "    az[ii] = az_.degrees\n",
    "\n",
    "df = pd.DataFrame(index = dates)\n",
    "\n",
    "\n",
    "df['EL'] = alt \n",
    "df['AZ'] = az \n",
    "\n",
    "Plot = False\n",
    "if Plot:\n",
    "    fig, ax = plt.subplots(dpi=200)\n",
    "    ax = df.plot(ax=ax, y='EL', linestyle='solid', marker='')\n",
    "\n",
    "    ax.grid(b=True, which='major', axis='both')\n",
    "    ax.axhline(y=5, color='r', linestyle='-')\n",
    "\n",
    "    plt.show()"
   ]
  },
  {
   "cell_type": "markdown",
   "metadata": {},
   "source": [
    "<style>\n",
    "    h1 {font-family:Times; font-size:20pt}\n",
    "    h2 {font-family:Times; font-size:18pt}\n",
    "    h3 {font-family:Times; font-size:16pt}\n",
    "    p {font-family:Times; font-size:12pt}\n",
    "    </style>\n",
    ">\n",
    "> ## Probability density function\n",
    ">\n",
    "> In this section the probability density function for elevation angle will be calculated $P(\\theta)$"
   ]
  },
  {
   "cell_type": "code",
   "execution_count": 43,
   "metadata": {
    "scrolled": false
   },
   "outputs": [
    {
     "name": "stdout",
     "output_type": "stream",
     "text": [
      "[0.0319405890623310 0.0201635166903524 0.0133177494730012\n",
      " 0.0095400547585482 0.0069406364969708 0.0054151384806875\n",
      " 0.0042767071252521 0.0033811411256430 0.0028593600877351\n",
      " 0.0024817803548491 0.0021819934312511 0.0023584502913436\n",
      " 0.0015122163171366 0.0009638718809353 0.0006318294022666\n",
      " 0.0003472215634078 0.0001157405211359 0.0000000000000000]\n"
     ]
    },
    {
     "data": {
      "image/png": "[encoded data removed]",
      "text/plain": [
       "<Figure size 1200x800 with 1 Axes>"
      ]
     },
     "metadata": {
      "needs_background": "light"
     },
     "output_type": "display_data"
    }
   ],
   "source": [
    "stp = 5\n",
    "bins = np.arange(5,91,stp)\n",
    "prob_theta = np.zeros(bins.size)\n",
    "\n",
    "stat = pd.DataFrame(index=bins)\n",
    "\n",
    "for idx, bin in enumerate(bins):\n",
    "    ind  = np.logical_and( bin <= df['EL'] , df['EL'] < bin+stp)\n",
    "\n",
    "    el = df.loc[ind,'EL']\n",
    "\n",
    "    prob_theta[idx] = np.size(el) / np.size(ind)\n",
    "    stat.loc[bin,'PDF'] = prob_theta[idx] * 100\n",
    "\n",
    "np.set_printoptions(precision=16, suppress=False)\n",
    "print(prob_theta)\n",
    "\n",
    "fig, ax = plt.subplots(dpi=200)\n",
    "ax = stat.plot(ax=ax, y='PDF', kind='bar')\n",
    "\n",
    "ax.grid(b=True, which='major', axis='y')\n",
    "\n",
    "ax.set_xlabel(r'Elevation [$^\\circ$]')\n",
    "ax.set_ylabel(r'Probability [%]')\n",
    "plt.show()\n",
    "\n"
   ]
  }
 ],
 "metadata": {
  "interpreter": {
   "hash": "a0a6418f5a2ddd18444d026a94ad36da0e3b74fe629d7d82274bf9e4a91dc94b"
  },
  "kernelspec": {
   "display_name": "Python 3 (ipykernel)",
   "language": "python",
   "name": "python3"
  },
  "language_info": {
   "codemirror_mode": {
    "name": "ipython",
    "version": 3
   },
   "file_extension": ".py",
   "mimetype": "text/x-python",
   "name": "python",
   "nbconvert_exporter": "python",
   "pygments_lexer": "ipython3",
   "version": "3.8.10"
  }
 },
 "nbformat": 4,
 "nbformat_minor": 4
}
